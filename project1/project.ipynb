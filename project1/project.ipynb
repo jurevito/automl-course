{
 "cells": [
  {
   "cell_type": "markdown",
   "metadata": {},
   "source": [
    "## Automated Machine Learning\n",
    "We will be working with [Heart Failure Dataset](https://www.kaggle.com/datasets/fedesoriano/heart-failure-prediction).\n",
    "\n",
    "### Libraries\n",
    "- [HyperOpt](https://hyperopt.github.io/hyperopt/) ([Tutorial](https://towardsdatascience.com/optimise-your-hyperparameter-tuning-with-hyperopt-861573239eb5))\n",
    "\n",
    "\n",
    "### Instructions\n",
    "1. Choose a dataset. Build and train a baseline for comparison. Try a set of possible machine learning algorithms (13 algorithms) using their default hyperparamters and choose the one with the highest performance for comparison.\n",
    "\n",
    "2. Based on the problem at hand, you study the potential pipeline structure,\n",
    "algorithms or feature transformers at each step, hyper-parameters ranges. Use\n",
    "hyperOpt with the potential search space to beat the baseline.\n",
    "\n",
    "3. Monitor the performance of you the constructed pipeline from the previous step across different time budgets (number of iterations) and report the least time budget that you are able to outperform the baseline.\n",
    "\n",
    "4. Determine whether the difference in performance between the constructed pipeline and the baseline is statistically significant."
   ]
  },
  {
   "cell_type": "code",
   "execution_count": 1,
   "metadata": {},
   "outputs": [],
   "source": [
    "import numpy as np\n",
    "import scipy as scp\n",
    "import pandas as pd\n",
    "import seaborn as sn"
   ]
  },
  {
   "cell_type": "code",
   "execution_count": 2,
   "metadata": {},
   "outputs": [
    {
     "data": {
      "text/html": [
       "<div>\n",
       "<style scoped>\n",
       "    .dataframe tbody tr th:only-of-type {\n",
       "        vertical-align: middle;\n",
       "    }\n",
       "\n",
       "    .dataframe tbody tr th {\n",
       "        vertical-align: top;\n",
       "    }\n",
       "\n",
       "    .dataframe thead th {\n",
       "        text-align: right;\n",
       "    }\n",
       "</style>\n",
       "<table border=\"1\" class=\"dataframe\">\n",
       "  <thead>\n",
       "    <tr style=\"text-align: right;\">\n",
       "      <th></th>\n",
       "      <th>Age</th>\n",
       "      <th>Sex</th>\n",
       "      <th>ChestPainType</th>\n",
       "      <th>RestingBP</th>\n",
       "      <th>Cholesterol</th>\n",
       "      <th>FastingBS</th>\n",
       "      <th>RestingECG</th>\n",
       "      <th>MaxHR</th>\n",
       "      <th>ExerciseAngina</th>\n",
       "      <th>Oldpeak</th>\n",
       "      <th>ST_Slope</th>\n",
       "      <th>HeartDisease</th>\n",
       "    </tr>\n",
       "  </thead>\n",
       "  <tbody>\n",
       "    <tr>\n",
       "      <th>10</th>\n",
       "      <td>37</td>\n",
       "      <td>F</td>\n",
       "      <td>NAP</td>\n",
       "      <td>130</td>\n",
       "      <td>211</td>\n",
       "      <td>0</td>\n",
       "      <td>Normal</td>\n",
       "      <td>142</td>\n",
       "      <td>N</td>\n",
       "      <td>0.0</td>\n",
       "      <td>Up</td>\n",
       "      <td>0</td>\n",
       "    </tr>\n",
       "    <tr>\n",
       "      <th>880</th>\n",
       "      <td>52</td>\n",
       "      <td>M</td>\n",
       "      <td>NAP</td>\n",
       "      <td>172</td>\n",
       "      <td>199</td>\n",
       "      <td>1</td>\n",
       "      <td>Normal</td>\n",
       "      <td>162</td>\n",
       "      <td>N</td>\n",
       "      <td>0.5</td>\n",
       "      <td>Up</td>\n",
       "      <td>0</td>\n",
       "    </tr>\n",
       "    <tr>\n",
       "      <th>135</th>\n",
       "      <td>49</td>\n",
       "      <td>M</td>\n",
       "      <td>NAP</td>\n",
       "      <td>115</td>\n",
       "      <td>265</td>\n",
       "      <td>0</td>\n",
       "      <td>Normal</td>\n",
       "      <td>175</td>\n",
       "      <td>N</td>\n",
       "      <td>0.0</td>\n",
       "      <td>Flat</td>\n",
       "      <td>1</td>\n",
       "    </tr>\n",
       "  </tbody>\n",
       "</table>\n",
       "</div>"
      ],
      "text/plain": [
       "     Age Sex ChestPainType  RestingBP  Cholesterol  FastingBS RestingECG  \\\n",
       "10    37   F           NAP        130          211          0     Normal   \n",
       "880   52   M           NAP        172          199          1     Normal   \n",
       "135   49   M           NAP        115          265          0     Normal   \n",
       "\n",
       "     MaxHR ExerciseAngina  Oldpeak ST_Slope  HeartDisease  \n",
       "10     142              N      0.0       Up             0  \n",
       "880    162              N      0.5       Up             0  \n",
       "135    175              N      0.0     Flat             1  "
      ]
     },
     "execution_count": 2,
     "metadata": {},
     "output_type": "execute_result"
    }
   ],
   "source": [
    "df = pd.read_csv('./heart_failure.csv')\n",
    "df.sample(3)"
   ]
  },
  {
   "cell_type": "code",
   "execution_count": 3,
   "metadata": {},
   "outputs": [
    {
     "name": "stdout",
     "output_type": "stream",
     "text": [
      "<class 'pandas.core.frame.DataFrame'>\n",
      "RangeIndex: 918 entries, 0 to 917\n",
      "Data columns (total 12 columns):\n",
      " #   Column          Non-Null Count  Dtype  \n",
      "---  ------          --------------  -----  \n",
      " 0   Age             918 non-null    int64  \n",
      " 1   Sex             918 non-null    object \n",
      " 2   ChestPainType   918 non-null    object \n",
      " 3   RestingBP       918 non-null    int64  \n",
      " 4   Cholesterol     918 non-null    int64  \n",
      " 5   FastingBS       918 non-null    int64  \n",
      " 6   RestingECG      918 non-null    object \n",
      " 7   MaxHR           918 non-null    int64  \n",
      " 8   ExerciseAngina  918 non-null    object \n",
      " 9   Oldpeak         918 non-null    float64\n",
      " 10  ST_Slope        918 non-null    object \n",
      " 11  HeartDisease    918 non-null    int64  \n",
      "dtypes: float64(1), int64(6), object(5)\n",
      "memory usage: 86.2+ KB\n"
     ]
    }
   ],
   "source": [
    "df.info()"
   ]
  },
  {
   "cell_type": "code",
   "execution_count": null,
   "metadata": {},
   "outputs": [],
   "source": [
    "from sklearn.model_selection import train_test_split\n",
    "from util import find_baseline, preprocess\n",
    "\n",
    "df = preprocess(df)\n",
    "train_df, test_df = train_test_split(df, test_size=0.33, random_state=42)\n",
    "scores = find_baseline(train_df, test_df)"
   ]
  },
  {
   "cell_type": "code",
   "execution_count": 5,
   "metadata": {},
   "outputs": [
    {
     "name": "stdout",
     "output_type": "stream",
     "text": [
      "Random Forest       : 0.888\n",
      "AdaBoost            : 0.871\n",
      "Naive Bayes         : 0.871\n",
      "Linear SVM          : 0.855\n",
      "QDA                 : 0.855\n",
      "Logistic Regression : 0.855\n",
      "Gaussian Process    : 0.851\n",
      "Neural Network      : 0.845\n",
      "Decision Tree       : 0.799\n",
      "KNN                 : 0.703\n",
      "RBF SVM             : 0.594\n"
     ]
    }
   ],
   "source": [
    "for name, score in sorted(scores.items(), key=lambda t: t[1], reverse=True):\n",
    "    print(f'{name:20}: {score:.3f}')"
   ]
  },
  {
   "cell_type": "code",
   "execution_count": 6,
   "metadata": {},
   "outputs": [
    {
     "name": "stdout",
     "output_type": "stream",
     "text": [
      "100%|██████████| 250/250 [02:27<00:00,  1.69trial/s, best loss: 0.1495934959349594] \n"
     ]
    },
    {
     "data": {
      "text/plain": [
       "{'criterion': 'gini',\n",
       " 'max_depth': 99,\n",
       " 'max_features': 'sqrt',\n",
       " 'min_samples_leaf': 0.061884564599754485,\n",
       " 'min_samples_split': 0.009717845648543742,\n",
       " 'min_weight_fraction_leaf': 0.02165754820804295,\n",
       " 'n_estimators': 144}"
      ]
     },
     "execution_count": 6,
     "metadata": {},
     "output_type": "execute_result"
    }
   ],
   "source": [
    "import pandas as pd\n",
    "from sklearn.ensemble import RandomForestClassifier\n",
    "from hyperopt import fmin, hp, tpe, STATUS_OK, space_eval\n",
    "from util import create_objective, preprocess\n",
    "\n",
    "df = pd.read_csv('./heart_failure.csv')\n",
    "df = preprocess(df)\n",
    "\n",
    "search_space = {\n",
    "    'n_estimators': hp.randint('n_estimators', 50, 150),\n",
    "    'criterion': hp.choice('criterion', ['gini', 'entropy']),\n",
    "    'max_depth': hp.randint('max_depth', 10, 200),\n",
    "    'min_samples_split': hp.uniform('min_samples_split', 0, 0.1),\n",
    "    'min_samples_leaf': hp.uniform('min_samples_leaf', 0, 0.1),\n",
    "    'min_weight_fraction_leaf': hp.uniform('min_weight_fraction_leaf', 0, 0.1),\n",
    "    'max_features': hp.choice('max_features', ['sqrt', 'log2']),\n",
    "}\n",
    "\n",
    "classifier = RandomForestClassifier\n",
    "\n",
    "optimized_params = fmin(\n",
    "    fn=create_objective(classifier, train_df),\n",
    "    space=search_space,\n",
    "    algo=tpe.suggest,\n",
    "    max_evals=250\n",
    ")\n",
    "\n",
    "space_eval(search_space, optimized_params)"
   ]
  },
  {
   "cell_type": "code",
   "execution_count": 8,
   "metadata": {},
   "outputs": [
    {
     "name": "stdout",
     "output_type": "stream",
     "text": [
      "Accuracy score: 0.851\n"
     ]
    }
   ],
   "source": [
    "from sklearn.metrics import accuracy_score\n",
    "\n",
    "params = space_eval(search_space, optimized_params)\n",
    "model = classifier(**params, random_state=42)\n",
    "\n",
    "X_train = train_df.drop('HeartDisease', axis=1).values\n",
    "X_test = test_df.drop('HeartDisease', axis=1).values\n",
    "\n",
    "y_train = train_df['HeartDisease'].values\n",
    "y_test = test_df['HeartDisease'].values\n",
    "\n",
    "model.fit(X_train, y_train)\n",
    "y_pred = model.predict(X_test)\n",
    "\n",
    "score = accuracy_score(y_test, y_pred)\n",
    "\n",
    "print(f'Accuracy score: {score:.3f}')"
   ]
  }
 ],
 "metadata": {
  "kernelspec": {
   "display_name": "Python 3.10.7 64-bit",
   "language": "python",
   "name": "python3"
  },
  "language_info": {
   "codemirror_mode": {
    "name": "ipython",
    "version": 3
   },
   "file_extension": ".py",
   "mimetype": "text/x-python",
   "name": "python",
   "nbconvert_exporter": "python",
   "pygments_lexer": "ipython3",
   "version": "3.10.7"
  },
  "orig_nbformat": 4,
  "vscode": {
   "interpreter": {
    "hash": "0d2023a3b269d60709d80108461d3cb0d5d977b1e45e81bdf5ec1062fca0dde8"
   }
  }
 },
 "nbformat": 4,
 "nbformat_minor": 2
}
