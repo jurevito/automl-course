{
 "cells": [
  {
   "cell_type": "markdown",
   "metadata": {
    "pycharm": {
     "name": "#%% md\n"
    }
   },
   "source": [
    "## Automated Machine Learning\n",
    "We will be working with [Heart Failure Dataset](https://www.kaggle.com/datasets/fedesoriano/heart-failure-prediction).\n",
    "\n",
    "### Libraries\n",
    "- [HyperOpt](https://hyperopt.github.io/hyperopt/) ([Tutorial 1](https://towardsdatascience.com/optimise-your-hyperparameter-tuning-with-hyperopt-861573239eb5), [Tutorial 2](https://medium.com/vooban-ai/hyperopt-tutorial-for-optimizing-neural-networks-hyperparameters-e3102814b919))\n",
    "\n",
    "\n",
    "### Instructions\n",
    "1. Choose a dataset. Build and train a baseline for comparison. Try a set of possible machine learning algorithms (13 algorithms) using their default hyperparamters and choose the one with the highest performance for comparison.\n",
    "\n",
    "2. Based on the problem at hand, you study the potential pipeline structure,\n",
    "algorithms or feature transformers at each step, hyper-parameters ranges. Use\n",
    "hyperOpt with the potential search space to beat the baseline.\n",
    "\n",
    "3. Monitor the performance of you the constructed pipeline from the previous step across different time budgets (number of iterations) and report the least time budget that you are able to outperform the baseline.\n",
    "\n",
    "4. Determine whether the difference in performance between the constructed pipeline and the baseline is statistically significant."
   ]
  },
  {
   "cell_type": "markdown",
   "metadata": {},
   "source": [
    "## TODO:\n",
    "\n",
    "- [ ] Implement one hot encoding for certain algorithms.\n",
    "- [ ] Fix and improve search spaces.\n",
    "- [ ] Implement hyperparameter optimization for all agorithms.\n",
    "- [ ] Visualise hyperparameter search.\n",
    "- [ ] Compare models for statistical significance.\n",
    "- [ ] Find minimum time budget for which baseline is outperformed"
   ]
  },
  {
   "cell_type": "code",
   "execution_count": 1,
   "metadata": {
    "pycharm": {
     "name": "#%%\n"
    }
   },
   "outputs": [],
   "source": [
    "import numpy as np\n",
    "import scipy as scp\n",
    "import pandas as pd\n",
    "import seaborn as sn\n",
    "import warnings\n",
    "\n",
    "warnings.filterwarnings('ignore')"
   ]
  },
  {
   "cell_type": "code",
   "execution_count": 2,
   "metadata": {
    "pycharm": {
     "name": "#%%\n"
    }
   },
   "outputs": [
    {
     "data": {
      "text/html": [
       "<div>\n",
       "<style scoped>\n",
       "    .dataframe tbody tr th:only-of-type {\n",
       "        vertical-align: middle;\n",
       "    }\n",
       "\n",
       "    .dataframe tbody tr th {\n",
       "        vertical-align: top;\n",
       "    }\n",
       "\n",
       "    .dataframe thead th {\n",
       "        text-align: right;\n",
       "    }\n",
       "</style>\n",
       "<table border=\"1\" class=\"dataframe\">\n",
       "  <thead>\n",
       "    <tr style=\"text-align: right;\">\n",
       "      <th></th>\n",
       "      <th>Age</th>\n",
       "      <th>Sex</th>\n",
       "      <th>ChestPainType</th>\n",
       "      <th>RestingBP</th>\n",
       "      <th>Cholesterol</th>\n",
       "      <th>FastingBS</th>\n",
       "      <th>RestingECG</th>\n",
       "      <th>MaxHR</th>\n",
       "      <th>ExerciseAngina</th>\n",
       "      <th>Oldpeak</th>\n",
       "      <th>ST_Slope</th>\n",
       "      <th>HeartDisease</th>\n",
       "    </tr>\n",
       "  </thead>\n",
       "  <tbody>\n",
       "    <tr>\n",
       "      <th>318</th>\n",
       "      <td>61</td>\n",
       "      <td>M</td>\n",
       "      <td>ASY</td>\n",
       "      <td>130</td>\n",
       "      <td>0</td>\n",
       "      <td>1</td>\n",
       "      <td>Normal</td>\n",
       "      <td>77</td>\n",
       "      <td>N</td>\n",
       "      <td>2.5</td>\n",
       "      <td>Flat</td>\n",
       "      <td>1</td>\n",
       "    </tr>\n",
       "    <tr>\n",
       "      <th>11</th>\n",
       "      <td>58</td>\n",
       "      <td>M</td>\n",
       "      <td>ATA</td>\n",
       "      <td>136</td>\n",
       "      <td>164</td>\n",
       "      <td>0</td>\n",
       "      <td>ST</td>\n",
       "      <td>99</td>\n",
       "      <td>Y</td>\n",
       "      <td>2.0</td>\n",
       "      <td>Flat</td>\n",
       "      <td>1</td>\n",
       "    </tr>\n",
       "    <tr>\n",
       "      <th>460</th>\n",
       "      <td>57</td>\n",
       "      <td>M</td>\n",
       "      <td>ASY</td>\n",
       "      <td>139</td>\n",
       "      <td>277</td>\n",
       "      <td>1</td>\n",
       "      <td>ST</td>\n",
       "      <td>118</td>\n",
       "      <td>Y</td>\n",
       "      <td>1.9</td>\n",
       "      <td>Flat</td>\n",
       "      <td>1</td>\n",
       "    </tr>\n",
       "  </tbody>\n",
       "</table>\n",
       "</div>"
      ],
      "text/plain": [
       "     Age Sex ChestPainType  RestingBP  Cholesterol  FastingBS RestingECG  \\\n",
       "318   61   M           ASY        130            0          1     Normal   \n",
       "11    58   M           ATA        136          164          0         ST   \n",
       "460   57   M           ASY        139          277          1         ST   \n",
       "\n",
       "     MaxHR ExerciseAngina  Oldpeak ST_Slope  HeartDisease  \n",
       "318     77              N      2.5     Flat             1  \n",
       "11      99              Y      2.0     Flat             1  \n",
       "460    118              Y      1.9     Flat             1  "
      ]
     },
     "execution_count": 2,
     "metadata": {},
     "output_type": "execute_result"
    }
   ],
   "source": [
    "df = pd.read_csv('./heart_failure.csv')\n",
    "df.sample(3)"
   ]
  },
  {
   "cell_type": "code",
   "execution_count": 3,
   "metadata": {},
   "outputs": [],
   "source": [
    "from sklearn.model_selection import train_test_split\n",
    "from util import find_baseline, preprocess\n",
    "\n",
    "df = preprocess(df)\n",
    "train_df, test_df = train_test_split(df, test_size=0.33, random_state=42)"
   ]
  },
  {
   "cell_type": "code",
   "execution_count": 4,
   "metadata": {
    "pycharm": {
     "name": "#%%\n"
    }
   },
   "outputs": [],
   "source": [
    "scores = find_baseline(train_df)"
   ]
  },
  {
   "cell_type": "code",
   "execution_count": 5,
   "metadata": {
    "pycharm": {
     "name": "#%%\n"
    }
   },
   "outputs": [
    {
     "name": "stdout",
     "output_type": "stream",
     "text": [
      "Naive Bayes         : 0.850\n",
      "Gradient Boosting   : 0.849\n",
      "Random Forest       : 0.844\n",
      "AdaBoost            : 0.844\n",
      "Logistic Regression : 0.844\n",
      "LDA                 : 0.837\n",
      "QDA                 : 0.833\n",
      "SVM                 : 0.831\n",
      "Neural Network      : 0.823\n",
      "Bagging Classifier  : 0.816\n",
      "Decision Tree       : 0.802\n",
      "Gaussian Process    : 0.746\n",
      "KNN                 : 0.712\n"
     ]
    }
   ],
   "source": [
    "for name, score in sorted(scores.items(), key=lambda t: t[1], reverse=True):\n",
    "    print(f'{name:20}: {score:.3f}')"
   ]
  },
  {
   "cell_type": "code",
   "execution_count": 6,
   "metadata": {
    "pycharm": {
     "name": "#%%\n"
    }
   },
   "outputs": [
    {
     "name": "stdout",
     "output_type": "stream",
     "text": [
      "Baseline model is Naive Bayes with accuracy 0.8504.\n"
     ]
    }
   ],
   "source": [
    "baseline_model_name = max(scores, key=scores.get)\n",
    "baseline_score = scores[baseline_model_name]\n",
    "print(f\"Baseline model is {baseline_model_name} with accuracy {baseline_score:.4f}.\")"
   ]
  },
  {
   "cell_type": "code",
   "execution_count": 7,
   "metadata": {},
   "outputs": [
    {
     "name": "stdout",
     "output_type": "stream",
     "text": [
      "Optimizing KNN's hyperparameters.\n",
      "100%|██████████| 1/1 [00:00<00:00, 31.26trial/s, best loss: 0.2878048780487805]\n",
      "Elapsed time: 0.04\n",
      "Optimizing SVM's hyperparameters.\n",
      "100%|██████████| 1/1 [00:07<00:00,  7.61s/trial, best loss: 0.16260162601626027]\n",
      "Elapsed time: 7.61\n",
      "Optimizing Gaussian Process's hyperparameters.\n",
      "100%|██████████| 1/1 [00:17<00:00, 17.00s/trial, best loss: 0.25365853658536586]\n",
      "Elapsed time: 17.01\n",
      "Optimizing Decision Tree's hyperparameters.\n",
      "100%|██████████| 1/1 [00:00<00:00, 125.05trial/s, best loss: 0.2780487804878049]\n",
      "Elapsed time: 0.02\n",
      "Optimizing Random Forest's hyperparameters.\n",
      "100%|██████████| 1/1 [00:00<00:00,  3.34trial/s, best loss: 0.1560975609756099]\n",
      "Elapsed time: 0.31\n",
      "Optimizing Neural Network's hyperparameters.\n",
      "100%|██████████| 1/1 [00:02<00:00,  2.31s/trial, best loss: 0.24878048780487816]\n",
      "Elapsed time: 2.33\n",
      "Optimizing AdaBoost's hyperparameters.\n",
      "100%|██████████| 1/1 [00:00<00:00,  4.63trial/s, best loss: 0.16422764227642284]\n",
      "Elapsed time: 0.22\n",
      "Optimizing Naive Bayes's hyperparameters.\n",
      "100%|██████████| 1/1 [00:00<00:00, 62.49trial/s, best loss: 0.1495934959349594]\n",
      "Elapsed time: 0.02\n",
      "Optimizing QDA's hyperparameters.\n",
      "100%|██████████| 1/1 [00:00<00:00, 54.01trial/s, best loss: 0.16747967479674808]\n",
      "Elapsed time: 0.02\n",
      "Optimizing Logistic Regression's hyperparameters.\n",
      "100%|██████████| 1/1 [00:00<00:00,  7.75trial/s, best loss: 0.15609756097560967]\n",
      "Elapsed time: 0.13\n",
      "Optimizing LDA's hyperparameters.\n",
      "100%|██████████| 1/1 [00:00<00:00, 41.24trial/s, best loss: 0.16260162601626027]\n",
      "Elapsed time: 0.03\n",
      "Optimizing Bagging Classifier's hyperparameters.\n",
      "100%|██████████| 1/1 [00:00<00:00, 11.36trial/s, best loss: 0.1983739837398375]\n",
      "Elapsed time: 0.10\n",
      "Optimizing Gradient Boosting's hyperparameters.\n",
      "100%|██████████| 1/1 [00:00<00:00,  3.24trial/s, best loss: 0.15772357723577246]\n",
      "Elapsed time: 0.32\n"
     ]
    }
   ],
   "source": [
    "import time\n",
    "from util import optimize_hyperparams, classifiers\n",
    "\n",
    "optimization_results = {}\n",
    "\n",
    "for classifier in classifiers:\n",
    "    print(f'{classifier}:')\n",
    "\n",
    "    max_evals = {\n",
    "        'Neural Network': 1\n",
    "    }\n",
    "\n",
    "    start_time = time.time()\n",
    "    _, losses, params = optimize_hyperparams(classifier, train_df, max_evals.get(classifier, 1), True)\n",
    "    elapsed = time.time() - start_time\n",
    "\n",
    "    optimization_results[classifier] = {\n",
    "        'losses': losses,\n",
    "        'params': params,\n",
    "        'time': elapsed,\n",
    "    }\n",
    "\n",
    "    print(f'Elapsed time: {elapsed:.2f}s')"
   ]
  },
  {
   "cell_type": "code",
   "execution_count": null,
   "metadata": {
    "pycharm": {
     "name": "#%%\n"
    }
   },
   "outputs": [
    {
     "data": {
      "text/html": [
       "<div>\n",
       "<style scoped>\n",
       "    .dataframe tbody tr th:only-of-type {\n",
       "        vertical-align: middle;\n",
       "    }\n",
       "\n",
       "    .dataframe tbody tr th {\n",
       "        vertical-align: top;\n",
       "    }\n",
       "\n",
       "    .dataframe thead th {\n",
       "        text-align: right;\n",
       "    }\n",
       "</style>\n",
       "<table border=\"1\" class=\"dataframe\">\n",
       "  <thead>\n",
       "    <tr style=\"text-align: right;\">\n",
       "      <th></th>\n",
       "      <th>Classifier</th>\n",
       "      <th>Minimum_Budget</th>\n",
       "      <th>Accuracy</th>\n",
       "    </tr>\n",
       "  </thead>\n",
       "  <tbody>\n",
       "    <tr>\n",
       "      <th>0</th>\n",
       "      <td>Gradient Boosting</td>\n",
       "      <td>1</td>\n",
       "      <td>0.874587</td>\n",
       "    </tr>\n",
       "    <tr>\n",
       "      <th>1</th>\n",
       "      <td>Bagging Classifier</td>\n",
       "      <td>1</td>\n",
       "      <td>0.871287</td>\n",
       "    </tr>\n",
       "    <tr>\n",
       "      <th>2</th>\n",
       "      <td>LDA</td>\n",
       "      <td>100</td>\n",
       "      <td>0.848185</td>\n",
       "    </tr>\n",
       "    <tr>\n",
       "      <th>3</th>\n",
       "      <td>QDA</td>\n",
       "      <td>1</td>\n",
       "      <td>0.854785</td>\n",
       "    </tr>\n",
       "    <tr>\n",
       "      <th>4</th>\n",
       "      <td>Naive Bayes</td>\n",
       "      <td>1</td>\n",
       "      <td>0.871287</td>\n",
       "    </tr>\n",
       "    <tr>\n",
       "      <th>5</th>\n",
       "      <td>KNN</td>\n",
       "      <td>100</td>\n",
       "      <td>0.742574</td>\n",
       "    </tr>\n",
       "    <tr>\n",
       "      <th>6</th>\n",
       "      <td>SVM</td>\n",
       "      <td>1</td>\n",
       "      <td>0.851485</td>\n",
       "    </tr>\n",
       "    <tr>\n",
       "      <th>7</th>\n",
       "      <td>Gaussian Process</td>\n",
       "      <td>1</td>\n",
       "      <td>0.851485</td>\n",
       "    </tr>\n",
       "    <tr>\n",
       "      <th>8</th>\n",
       "      <td>Decision Tree</td>\n",
       "      <td>38</td>\n",
       "      <td>0.861386</td>\n",
       "    </tr>\n",
       "    <tr>\n",
       "      <th>9</th>\n",
       "      <td>Neural Network</td>\n",
       "      <td>100</td>\n",
       "      <td>0.844884</td>\n",
       "    </tr>\n",
       "    <tr>\n",
       "      <th>10</th>\n",
       "      <td>AdaBoost</td>\n",
       "      <td>1</td>\n",
       "      <td>0.867987</td>\n",
       "    </tr>\n",
       "    <tr>\n",
       "      <th>11</th>\n",
       "      <td>Logistic Regression</td>\n",
       "      <td>1</td>\n",
       "      <td>0.851485</td>\n",
       "    </tr>\n",
       "    <tr>\n",
       "      <th>12</th>\n",
       "      <td>Random Forest</td>\n",
       "      <td>1</td>\n",
       "      <td>0.881188</td>\n",
       "    </tr>\n",
       "  </tbody>\n",
       "</table>\n",
       "</div>"
      ],
      "text/plain": [
       "             Classifier Minimum_Budget  Accuracy\n",
       "0     Gradient Boosting              1  0.874587\n",
       "1    Bagging Classifier              1  0.871287\n",
       "2                   LDA            100  0.848185\n",
       "3                   QDA              1  0.854785\n",
       "4           Naive Bayes              1  0.871287\n",
       "5                   KNN            100  0.742574\n",
       "6                   SVM              1  0.851485\n",
       "7      Gaussian Process              1  0.851485\n",
       "8         Decision Tree             38  0.861386\n",
       "9        Neural Network            100  0.844884\n",
       "10             AdaBoost              1  0.867987\n",
       "11  Logistic Regression              1  0.851485\n",
       "12        Random Forest              1  0.881188"
      ]
     },
     "execution_count": 7,
     "metadata": {},
     "output_type": "execute_result"
    }
   ],
   "source": [
    "from util import get_min_budgets, search_spaces\n",
    "from sklearn.preprocessing import StandardScaler\n",
    "\n",
    "X_train = train_df.drop('HeartDisease', axis=1).values\n",
    "X_test = test_df.drop('HeartDisease', axis=1).values\n",
    "\n",
    "y_train = train_df['HeartDisease'].values\n",
    "y_test = test_df['HeartDisease'].values\n",
    "\n",
    "scaler = StandardScaler()\n",
    "scaler.fit_transform(X_train)\n",
    "scaler.transform(X_test)\n",
    "\n",
    "min_budget_score, model_predictions = get_min_budgets(X_train, X_test, y_train, y_test, search_spaces.keys(), baseline_score, train_df)\n",
    "min_budget_score"
   ]
  },
  {
   "cell_type": "code",
   "execution_count": 16,
   "metadata": {
    "pycharm": {
     "name": "#%%\n"
    }
   },
   "outputs": [
    {
     "data": {
      "text/plain": "<Figure size 640x480 with 1 Axes>",
      "image/png": "[encoded data removed]"
     },
     "output_type": "display_data"
    }
   ],
   "source": [
    "from matplotlib import pyplot as plt\n",
    "\n",
    "plt.barh(min_budget_score['Classifier'], min_budget_score['Minimum_Budget'])\n",
    "plt.xlabel(\"Minimum budget to beat baseline\")\n",
    "plt.ylabel(\"Classifier\")\n",
    "plt.show()"
   ]
  },
  {
   "cell_type": "code",
   "execution_count": null,
   "metadata": {
    "pycharm": {
     "name": "#%%\n"
    }
   },
   "outputs": [
    {
     "data": {
      "text/html": [
       "<div>\n",
       "<style scoped>\n",
       "    .dataframe tbody tr th:only-of-type {\n",
       "        vertical-align: middle;\n",
       "    }\n",
       "\n",
       "    .dataframe tbody tr th {\n",
       "        vertical-align: top;\n",
       "    }\n",
       "\n",
       "    .dataframe thead th {\n",
       "        text-align: right;\n",
       "    }\n",
       "</style>\n",
       "<table border=\"1\" class=\"dataframe\">\n",
       "  <thead>\n",
       "    <tr style=\"text-align: right;\">\n",
       "      <th></th>\n",
       "      <th>Classifier</th>\n",
       "      <th>Minimum_Budget</th>\n",
       "      <th>Accuracy</th>\n",
       "      <th>p-value</th>\n",
       "    </tr>\n",
       "  </thead>\n",
       "  <tbody>\n",
       "    <tr>\n",
       "      <th>0</th>\n",
       "      <td>Gradient Boosting</td>\n",
       "      <td>1</td>\n",
       "      <td>0.874587</td>\n",
       "      <td>0.935062</td>\n",
       "    </tr>\n",
       "    <tr>\n",
       "      <th>1</th>\n",
       "      <td>Bagging Classifier</td>\n",
       "      <td>1</td>\n",
       "      <td>0.871287</td>\n",
       "      <td>0.625427</td>\n",
       "    </tr>\n",
       "    <tr>\n",
       "      <th>2</th>\n",
       "      <td>LDA</td>\n",
       "      <td>100</td>\n",
       "      <td>0.848185</td>\n",
       "      <td>0.569083</td>\n",
       "    </tr>\n",
       "    <tr>\n",
       "      <th>3</th>\n",
       "      <td>QDA</td>\n",
       "      <td>1</td>\n",
       "      <td>0.854785</td>\n",
       "      <td>0.567233</td>\n",
       "    </tr>\n",
       "    <tr>\n",
       "      <th>4</th>\n",
       "      <td>Naive Bayes</td>\n",
       "      <td>1</td>\n",
       "      <td>0.871287</td>\n",
       "      <td>1.0</td>\n",
       "    </tr>\n",
       "    <tr>\n",
       "      <th>5</th>\n",
       "      <td>KNN</td>\n",
       "      <td>100</td>\n",
       "      <td>0.742574</td>\n",
       "      <td>0.683051</td>\n",
       "    </tr>\n",
       "    <tr>\n",
       "      <th>6</th>\n",
       "      <td>SVM</td>\n",
       "      <td>1</td>\n",
       "      <td>0.851485</td>\n",
       "      <td>0.744715</td>\n",
       "    </tr>\n",
       "    <tr>\n",
       "      <th>7</th>\n",
       "      <td>Gaussian Process</td>\n",
       "      <td>1</td>\n",
       "      <td>0.851485</td>\n",
       "      <td>1.0</td>\n",
       "    </tr>\n",
       "    <tr>\n",
       "      <th>8</th>\n",
       "      <td>Decision Tree</td>\n",
       "      <td>38</td>\n",
       "      <td>0.861386</td>\n",
       "      <td>0.08356</td>\n",
       "    </tr>\n",
       "    <tr>\n",
       "      <th>9</th>\n",
       "      <td>Neural Network</td>\n",
       "      <td>100</td>\n",
       "      <td>0.844884</td>\n",
       "      <td>0.515302</td>\n",
       "    </tr>\n",
       "    <tr>\n",
       "      <th>10</th>\n",
       "      <td>AdaBoost</td>\n",
       "      <td>1</td>\n",
       "      <td>0.867987</td>\n",
       "      <td>0.371274</td>\n",
       "    </tr>\n",
       "    <tr>\n",
       "      <th>11</th>\n",
       "      <td>Logistic Regression</td>\n",
       "      <td>1</td>\n",
       "      <td>0.851485</td>\n",
       "      <td>0.625427</td>\n",
       "    </tr>\n",
       "    <tr>\n",
       "      <th>12</th>\n",
       "      <td>Random Forest</td>\n",
       "      <td>1</td>\n",
       "      <td>0.881188</td>\n",
       "      <td>0.683051</td>\n",
       "    </tr>\n",
       "  </tbody>\n",
       "</table>\n",
       "</div>"
      ],
      "text/plain": [
       "             Classifier Minimum_Budget  Accuracy   p-value\n",
       "0     Gradient Boosting              1  0.874587  0.935062\n",
       "1    Bagging Classifier              1  0.871287  0.625427\n",
       "2                   LDA            100  0.848185  0.569083\n",
       "3                   QDA              1  0.854785  0.567233\n",
       "4           Naive Bayes              1  0.871287       1.0\n",
       "5                   KNN            100  0.742574  0.683051\n",
       "6                   SVM              1  0.851485  0.744715\n",
       "7      Gaussian Process              1  0.851485       1.0\n",
       "8         Decision Tree             38  0.861386   0.08356\n",
       "9        Neural Network            100  0.844884  0.515302\n",
       "10             AdaBoost              1  0.867987  0.371274\n",
       "11  Logistic Regression              1  0.851485  0.625427\n",
       "12        Random Forest              1  0.881188  0.683051"
      ]
     },
     "execution_count": 9,
     "metadata": {},
     "output_type": "execute_result"
    }
   ],
   "source": [
    "from util import models\n",
    "from scipy.stats import ttest_ind\n",
    "\n",
    "# Fit the baseline model to the train and test data that hyperopt used\n",
    "baseline_model = models[baseline_model_name]\n",
    "baseline_model.fit(X_train, y_train)\n",
    "baseline_pred = baseline_model.predict(X_test)\n",
    "\n",
    "# add / readd a column for p-value in the budget/score db\n",
    "if 'p-value' in min_budget_score.columns:\n",
    "    del min_budget_score['p-value']\n",
    "min_budget_score.insert(len(min_budget_score.columns), 'p-value', None)\n",
    "\n",
    "# calculate and add p-values to db\n",
    "for classifier in model_predictions.keys():\n",
    "    t_result = ttest_ind(model_predictions[classifier], baseline_pred)\n",
    "    min_budget_score.loc[(min_budget_score['Classifier'] == classifier), 'p-value'] = t_result.pvalue\n",
    "\n",
    "min_budget_score\n"
   ]
  },
  {
   "cell_type": "code",
   "execution_count": null,
   "metadata": {
    "pycharm": {
     "name": "#%%\n"
    }
   },
   "outputs": [],
   "source": [
    "from matplotlib import pyplot as plt\n",
    "\n",
    "def visualise_search(losses, baseline):\n",
    "    baseline = 1 - baseline\n",
    "    plt.plot(range(len(losses)), losses, linewidth=0.8, alpha=0.5)\n",
    "    plt.plot([0, len(losses)], [baseline, baseline], linestyle='dashed', linewidth=0.5, color='red', alpha=0.8)\n",
    "    plt.ylim(0, 0.2)\n",
    "    plt.show()"
   ]
  }
 ],
 "metadata": {
  "kernelspec": {
   "display_name": "Python 3 (ipykernel)",
   "language": "python",
   "name": "python3"
  },
  "language_info": {
   "codemirror_mode": {
    "name": "ipython",
    "version": 3
   },
   "file_extension": ".py",
   "mimetype": "text/x-python",
   "name": "python",
   "nbconvert_exporter": "python",
   "pygments_lexer": "ipython3",
   "version": "3.10.7"
  },
  "vscode": {
   "interpreter": {
    "hash": "0d2023a3b269d60709d80108461d3cb0d5d977b1e45e81bdf5ec1062fca0dde8"
   }
  }
 },
 "nbformat": 4,
 "nbformat_minor": 2
}
