{
 "cells": [
  {
   "cell_type": "markdown",
   "metadata": {
    "pycharm": {
     "name": "#%% md\n"
    }
   },
   "source": [
    "## Automated Machine Learning\n",
    "We will be working with [Heart Failure Dataset](https://www.kaggle.com/datasets/fedesoriano/heart-failure-prediction).\n",
    "\n",
    "### Libraries\n",
    "- [HyperOpt](https://hyperopt.github.io/hyperopt/) ([Tutorial 1](https://towardsdatascience.com/optimise-your-hyperparameter-tuning-with-hyperopt-861573239eb5), [Tutorial 2](https://medium.com/vooban-ai/hyperopt-tutorial-for-optimizing-neural-networks-hyperparameters-e3102814b919))\n",
    "\n",
    "\n",
    "### Instructions\n",
    "1. Choose a dataset. Build and train a baseline for comparison. Try a set of possible machine learning algorithms (13 algorithms) using their default hyperparamters and choose the one with the highest performance for comparison.\n",
    "\n",
    "2. Based on the problem at hand, you study the potential pipeline structure,\n",
    "algorithms or feature transformers at each step, hyper-parameters ranges. Use\n",
    "hyperOpt with the potential search space to beat the baseline.\n",
    "\n",
    "3. Monitor the performance of you the constructed pipeline from the previous step across different time budgets (number of iterations) and report the least time budget that you are able to outperform the baseline.\n",
    "\n",
    "4. Determine whether the difference in performance between the constructed pipeline and the baseline is statistically significant."
   ]
  },
  {
   "cell_type": "code",
   "execution_count": 1,
   "metadata": {
    "pycharm": {
     "name": "#%%\n"
    }
   },
   "outputs": [],
   "source": [
    "import numpy as np\n",
    "import scipy as scp\n",
    "import pandas as pd\n",
    "import seaborn as sn"
   ]
  },
  {
   "cell_type": "code",
   "execution_count": 2,
   "metadata": {
    "pycharm": {
     "name": "#%%\n"
    }
   },
   "outputs": [
    {
     "data": {
      "text/plain": "     Age Sex ChestPainType  RestingBP  Cholesterol  FastingBS RestingECG  \\\n717   49   F           ASY        130          269          0     Normal   \n124   58   M           ATA        130          230          0     Normal   \n691   45   M           ASY        104          208          0        LVH   \n\n     MaxHR ExerciseAngina  Oldpeak ST_Slope  HeartDisease  \n717    163              N      0.0       Up             0  \n124    150              N      0.0       Up             0  \n691    148              Y      3.0     Flat             0  ",
      "text/html": "<div>\n<style scoped>\n    .dataframe tbody tr th:only-of-type {\n        vertical-align: middle;\n    }\n\n    .dataframe tbody tr th {\n        vertical-align: top;\n    }\n\n    .dataframe thead th {\n        text-align: right;\n    }\n</style>\n<table border=\"1\" class=\"dataframe\">\n  <thead>\n    <tr style=\"text-align: right;\">\n      <th></th>\n      <th>Age</th>\n      <th>Sex</th>\n      <th>ChestPainType</th>\n      <th>RestingBP</th>\n      <th>Cholesterol</th>\n      <th>FastingBS</th>\n      <th>RestingECG</th>\n      <th>MaxHR</th>\n      <th>ExerciseAngina</th>\n      <th>Oldpeak</th>\n      <th>ST_Slope</th>\n      <th>HeartDisease</th>\n    </tr>\n  </thead>\n  <tbody>\n    <tr>\n      <th>717</th>\n      <td>49</td>\n      <td>F</td>\n      <td>ASY</td>\n      <td>130</td>\n      <td>269</td>\n      <td>0</td>\n      <td>Normal</td>\n      <td>163</td>\n      <td>N</td>\n      <td>0.0</td>\n      <td>Up</td>\n      <td>0</td>\n    </tr>\n    <tr>\n      <th>124</th>\n      <td>58</td>\n      <td>M</td>\n      <td>ATA</td>\n      <td>130</td>\n      <td>230</td>\n      <td>0</td>\n      <td>Normal</td>\n      <td>150</td>\n      <td>N</td>\n      <td>0.0</td>\n      <td>Up</td>\n      <td>0</td>\n    </tr>\n    <tr>\n      <th>691</th>\n      <td>45</td>\n      <td>M</td>\n      <td>ASY</td>\n      <td>104</td>\n      <td>208</td>\n      <td>0</td>\n      <td>LVH</td>\n      <td>148</td>\n      <td>Y</td>\n      <td>3.0</td>\n      <td>Flat</td>\n      <td>0</td>\n    </tr>\n  </tbody>\n</table>\n</div>"
     },
     "execution_count": 2,
     "metadata": {},
     "output_type": "execute_result"
    }
   ],
   "source": [
    "df = pd.read_csv('./heart_failure.csv')\n",
    "df.sample(3)"
   ]
  },
  {
   "cell_type": "code",
   "execution_count": 3,
   "metadata": {
    "pycharm": {
     "name": "#%%\n"
    }
   },
   "outputs": [
    {
     "name": "stdout",
     "output_type": "stream",
     "text": [
      "<class 'pandas.core.frame.DataFrame'>\n",
      "RangeIndex: 918 entries, 0 to 917\n",
      "Data columns (total 12 columns):\n",
      " #   Column          Non-Null Count  Dtype  \n",
      "---  ------          --------------  -----  \n",
      " 0   Age             918 non-null    int64  \n",
      " 1   Sex             918 non-null    object \n",
      " 2   ChestPainType   918 non-null    object \n",
      " 3   RestingBP       918 non-null    int64  \n",
      " 4   Cholesterol     918 non-null    int64  \n",
      " 5   FastingBS       918 non-null    int64  \n",
      " 6   RestingECG      918 non-null    object \n",
      " 7   MaxHR           918 non-null    int64  \n",
      " 8   ExerciseAngina  918 non-null    object \n",
      " 9   Oldpeak         918 non-null    float64\n",
      " 10  ST_Slope        918 non-null    object \n",
      " 11  HeartDisease    918 non-null    int64  \n",
      "dtypes: float64(1), int64(6), object(5)\n",
      "memory usage: 86.2+ KB\n"
     ]
    }
   ],
   "source": [
    "df.info()"
   ]
  },
  {
   "cell_type": "code",
   "execution_count": 4,
   "metadata": {
    "pycharm": {
     "name": "#%%\n"
    }
   },
   "outputs": [
    {
     "name": "stderr",
     "output_type": "stream",
     "text": [
      "/Users/felix/Documents/Studium/Uni_Augsburg/Semester6/AutoML/project1/venv/lib/python3.8/site-packages/sklearn/gaussian_process/kernels.py:430: ConvergenceWarning: The optimal value found for dimension 0 of parameter k1__constant_value is close to the specified upper bound 100000.0. Increasing the bound and calling fit again may find a better value.\n",
      "  warnings.warn(\n",
      "/Users/felix/Documents/Studium/Uni_Augsburg/Semester6/AutoML/project1/venv/lib/python3.8/site-packages/sklearn/gaussian_process/kernels.py:430: ConvergenceWarning: The optimal value found for dimension 0 of parameter k1__constant_value is close to the specified upper bound 100000.0. Increasing the bound and calling fit again may find a better value.\n",
      "  warnings.warn(\n"
     ]
    }
   ],
   "source": [
    "from sklearn.model_selection import train_test_split\n",
    "from util import find_baseline, preprocess\n",
    "\n",
    "df = preprocess(df)\n",
    "train_df, test_df = train_test_split(df, test_size=0.33, random_state=42)\n",
    "scores = find_baseline(train_df)"
   ]
  },
  {
   "cell_type": "code",
   "execution_count": 5,
   "metadata": {
    "pycharm": {
     "name": "#%%\n"
    }
   },
   "outputs": [
    {
     "name": "stdout",
     "output_type": "stream",
     "text": [
      "Naive Bayes         : 0.850\n",
      "Random Forest       : 0.844\n",
      "AdaBoost            : 0.844\n",
      "Logistic Regression : 0.844\n",
      "QDA                 : 0.833\n",
      "SVM                 : 0.831\n",
      "Neural Network      : 0.823\n",
      "Decision Tree       : 0.802\n",
      "Gaussian Process    : 0.746\n",
      "KNN                 : 0.712\n"
     ]
    }
   ],
   "source": [
    "for name, score in sorted(scores.items(), key=lambda t: t[1], reverse=True):\n",
    "    print(f'{name:20}: {score:.3f}')"
   ]
  },
  {
   "cell_type": "code",
   "execution_count": 6,
   "outputs": [
    {
     "name": "stdout",
     "output_type": "stream",
     "text": [
      "Baseline model is Naive Bayes with accuracy 0.8504.\n"
     ]
    }
   ],
   "source": [
    "baseline_model = max(scores, key=scores.get)\n",
    "baseline_score = scores[baseline_model]\n",
    "print(f\"Baseline model is {baseline_model} with accuracy {baseline_score:.4f}.\")"
   ],
   "metadata": {
    "collapsed": false,
    "pycharm": {
     "name": "#%%\n"
    }
   }
  },
  {
   "cell_type": "code",
   "execution_count": 56,
   "metadata": {
    "pycharm": {
     "name": "#%%\n"
    }
   },
   "outputs": [
    {
     "name": "stderr",
     "output_type": "stream",
     "text": [
      "/Users/felix/Documents/Studium/Uni_Augsburg/Semester6/AutoML/project1/venv/lib/python3.8/site-packages/sklearn/neural_network/_multilayer_perceptron.py:559: ConvergenceWarning: lbfgs failed to converge (status=1):\n",
      "STOP: TOTAL NO. of ITERATIONS REACHED LIMIT.\n",
      "\n",
      "Increase the number of iterations (max_iter) or scale the data as shown in:\n",
      "    https://scikit-learn.org/stable/modules/preprocessing.html\n",
      "  self.n_iter_ = _check_optimize_result(\"lbfgs\", opt_res, self.max_iter)\n",
      "/Users/felix/Documents/Studium/Uni_Augsburg/Semester6/AutoML/project1/venv/lib/python3.8/site-packages/sklearn/neural_network/_multilayer_perceptron.py:559: ConvergenceWarning: lbfgs failed to converge (status=1):\n",
      "STOP: TOTAL NO. of ITERATIONS REACHED LIMIT.\n",
      "\n",
      "Increase the number of iterations (max_iter) or scale the data as shown in:\n",
      "    https://scikit-learn.org/stable/modules/preprocessing.html\n",
      "  self.n_iter_ = _check_optimize_result(\"lbfgs\", opt_res, self.max_iter)\n",
      "/Users/felix/Documents/Studium/Uni_Augsburg/Semester6/AutoML/project1/venv/lib/python3.8/site-packages/sklearn/neural_network/_multilayer_perceptron.py:559: ConvergenceWarning: lbfgs failed to converge (status=1):\n",
      "STOP: TOTAL NO. of ITERATIONS REACHED LIMIT.\n",
      "\n",
      "Increase the number of iterations (max_iter) or scale the data as shown in:\n",
      "    https://scikit-learn.org/stable/modules/preprocessing.html\n",
      "  self.n_iter_ = _check_optimize_result(\"lbfgs\", opt_res, self.max_iter)\n",
      "/Users/felix/Documents/Studium/Uni_Augsburg/Semester6/AutoML/project1/venv/lib/python3.8/site-packages/sklearn/neural_network/_multilayer_perceptron.py:559: ConvergenceWarning: lbfgs failed to converge (status=1):\n",
      "STOP: TOTAL NO. of ITERATIONS REACHED LIMIT.\n",
      "\n",
      "Increase the number of iterations (max_iter) or scale the data as shown in:\n",
      "    https://scikit-learn.org/stable/modules/preprocessing.html\n",
      "  self.n_iter_ = _check_optimize_result(\"lbfgs\", opt_res, self.max_iter)\n",
      "/Users/felix/Documents/Studium/Uni_Augsburg/Semester6/AutoML/project1/venv/lib/python3.8/site-packages/sklearn/neural_network/_multilayer_perceptron.py:559: ConvergenceWarning: lbfgs failed to converge (status=1):\n",
      "STOP: TOTAL NO. of ITERATIONS REACHED LIMIT.\n",
      "\n",
      "Increase the number of iterations (max_iter) or scale the data as shown in:\n",
      "    https://scikit-learn.org/stable/modules/preprocessing.html\n",
      "  self.n_iter_ = _check_optimize_result(\"lbfgs\", opt_res, self.max_iter)\n",
      "/Users/felix/Documents/Studium/Uni_Augsburg/Semester6/AutoML/project1/venv/lib/python3.8/site-packages/sklearn/neural_network/_multilayer_perceptron.py:559: ConvergenceWarning: lbfgs failed to converge (status=1):\n",
      "STOP: TOTAL NO. of ITERATIONS REACHED LIMIT.\n",
      "\n",
      "Increase the number of iterations (max_iter) or scale the data as shown in:\n",
      "    https://scikit-learn.org/stable/modules/preprocessing.html\n",
      "  self.n_iter_ = _check_optimize_result(\"lbfgs\", opt_res, self.max_iter)\n",
      "/Users/felix/Documents/Studium/Uni_Augsburg/Semester6/AutoML/project1/venv/lib/python3.8/site-packages/sklearn/neural_network/_multilayer_perceptron.py:702: ConvergenceWarning: Stochastic Optimizer: Maximum iterations (100) reached and the optimization hasn't converged yet.\n",
      "  warnings.warn(\n",
      "/Users/felix/Documents/Studium/Uni_Augsburg/Semester6/AutoML/project1/venv/lib/python3.8/site-packages/sklearn/neural_network/_multilayer_perceptron.py:702: ConvergenceWarning: Stochastic Optimizer: Maximum iterations (100) reached and the optimization hasn't converged yet.\n",
      "  warnings.warn(\n",
      "/Users/felix/Documents/Studium/Uni_Augsburg/Semester6/AutoML/project1/venv/lib/python3.8/site-packages/sklearn/neural_network/_multilayer_perceptron.py:702: ConvergenceWarning: Stochastic Optimizer: Maximum iterations (100) reached and the optimization hasn't converged yet.\n",
      "  warnings.warn(\n",
      "/Users/felix/Documents/Studium/Uni_Augsburg/Semester6/AutoML/project1/venv/lib/python3.8/site-packages/sklearn/neural_network/_multilayer_perceptron.py:702: ConvergenceWarning: Stochastic Optimizer: Maximum iterations (100) reached and the optimization hasn't converged yet.\n",
      "  warnings.warn(\n",
      "/Users/felix/Documents/Studium/Uni_Augsburg/Semester6/AutoML/project1/venv/lib/python3.8/site-packages/sklearn/neural_network/_multilayer_perceptron.py:702: ConvergenceWarning: Stochastic Optimizer: Maximum iterations (100) reached and the optimization hasn't converged yet.\n",
      "  warnings.warn(\n",
      "/Users/felix/Documents/Studium/Uni_Augsburg/Semester6/AutoML/project1/venv/lib/python3.8/site-packages/sklearn/neural_network/_multilayer_perceptron.py:702: ConvergenceWarning: Stochastic Optimizer: Maximum iterations (100) reached and the optimization hasn't converged yet.\n",
      "  warnings.warn(\n",
      "/Users/felix/Documents/Studium/Uni_Augsburg/Semester6/AutoML/project1/venv/lib/python3.8/site-packages/sklearn/neural_network/_multilayer_perceptron.py:559: ConvergenceWarning: lbfgs failed to converge (status=1):\n",
      "STOP: TOTAL NO. of ITERATIONS REACHED LIMIT.\n",
      "\n",
      "Increase the number of iterations (max_iter) or scale the data as shown in:\n",
      "    https://scikit-learn.org/stable/modules/preprocessing.html\n",
      "  self.n_iter_ = _check_optimize_result(\"lbfgs\", opt_res, self.max_iter)\n",
      "/Users/felix/Documents/Studium/Uni_Augsburg/Semester6/AutoML/project1/venv/lib/python3.8/site-packages/sklearn/neural_network/_multilayer_perceptron.py:559: ConvergenceWarning: lbfgs failed to converge (status=1):\n",
      "STOP: TOTAL NO. of ITERATIONS REACHED LIMIT.\n",
      "\n",
      "Increase the number of iterations (max_iter) or scale the data as shown in:\n",
      "    https://scikit-learn.org/stable/modules/preprocessing.html\n",
      "  self.n_iter_ = _check_optimize_result(\"lbfgs\", opt_res, self.max_iter)\n",
      "/Users/felix/Documents/Studium/Uni_Augsburg/Semester6/AutoML/project1/venv/lib/python3.8/site-packages/sklearn/neural_network/_multilayer_perceptron.py:559: ConvergenceWarning: lbfgs failed to converge (status=1):\n",
      "STOP: TOTAL NO. of ITERATIONS REACHED LIMIT.\n",
      "\n",
      "Increase the number of iterations (max_iter) or scale the data as shown in:\n",
      "    https://scikit-learn.org/stable/modules/preprocessing.html\n",
      "  self.n_iter_ = _check_optimize_result(\"lbfgs\", opt_res, self.max_iter)\n",
      "/Users/felix/Documents/Studium/Uni_Augsburg/Semester6/AutoML/project1/venv/lib/python3.8/site-packages/sklearn/neural_network/_multilayer_perceptron.py:559: ConvergenceWarning: lbfgs failed to converge (status=1):\n",
      "STOP: TOTAL NO. of ITERATIONS REACHED LIMIT.\n",
      "\n",
      "Increase the number of iterations (max_iter) or scale the data as shown in:\n",
      "    https://scikit-learn.org/stable/modules/preprocessing.html\n",
      "  self.n_iter_ = _check_optimize_result(\"lbfgs\", opt_res, self.max_iter)\n",
      "/Users/felix/Documents/Studium/Uni_Augsburg/Semester6/AutoML/project1/venv/lib/python3.8/site-packages/sklearn/neural_network/_multilayer_perceptron.py:559: ConvergenceWarning: lbfgs failed to converge (status=1):\n",
      "STOP: TOTAL NO. of ITERATIONS REACHED LIMIT.\n",
      "\n",
      "Increase the number of iterations (max_iter) or scale the data as shown in:\n",
      "    https://scikit-learn.org/stable/modules/preprocessing.html\n",
      "  self.n_iter_ = _check_optimize_result(\"lbfgs\", opt_res, self.max_iter)\n",
      "/Users/felix/Documents/Studium/Uni_Augsburg/Semester6/AutoML/project1/venv/lib/python3.8/site-packages/sklearn/neural_network/_multilayer_perceptron.py:559: ConvergenceWarning: lbfgs failed to converge (status=1):\n",
      "STOP: TOTAL NO. of ITERATIONS REACHED LIMIT.\n",
      "\n",
      "Increase the number of iterations (max_iter) or scale the data as shown in:\n",
      "    https://scikit-learn.org/stable/modules/preprocessing.html\n",
      "  self.n_iter_ = _check_optimize_result(\"lbfgs\", opt_res, self.max_iter)\n"
     ]
    },
    {
     "data": {
      "text/plain": "            Classifier Minimum_Budget  Accuracy\n0       Neural Network              3  0.851485\n1             AdaBoost              1  0.867987\n2  Logistic Regression              1  0.851485\n3        Random Forest              1  0.881188",
      "text/html": "<div>\n<style scoped>\n    .dataframe tbody tr th:only-of-type {\n        vertical-align: middle;\n    }\n\n    .dataframe tbody tr th {\n        vertical-align: top;\n    }\n\n    .dataframe thead th {\n        text-align: right;\n    }\n</style>\n<table border=\"1\" class=\"dataframe\">\n  <thead>\n    <tr style=\"text-align: right;\">\n      <th></th>\n      <th>Classifier</th>\n      <th>Minimum_Budget</th>\n      <th>Accuracy</th>\n    </tr>\n  </thead>\n  <tbody>\n    <tr>\n      <th>0</th>\n      <td>Neural Network</td>\n      <td>3</td>\n      <td>0.851485</td>\n    </tr>\n    <tr>\n      <th>1</th>\n      <td>AdaBoost</td>\n      <td>1</td>\n      <td>0.867987</td>\n    </tr>\n    <tr>\n      <th>2</th>\n      <td>Logistic Regression</td>\n      <td>1</td>\n      <td>0.851485</td>\n    </tr>\n    <tr>\n      <th>3</th>\n      <td>Random Forest</td>\n      <td>1</td>\n      <td>0.881188</td>\n    </tr>\n  </tbody>\n</table>\n</div>"
     },
     "execution_count": 56,
     "metadata": {},
     "output_type": "execute_result"
    }
   ],
   "source": [
    "from project1.util import create_objective\n",
    "from util import preprocess, optimize_hyperparams, classifiers, search_spaces, pd_insert_row\n",
    "from hyperopt import fmin, space_eval, hp, tpe, STATUS_OK, Trials\n",
    "\n",
    "from sklearn.metrics import accuracy_score\n",
    "from sklearn.preprocessing import StandardScaler\n",
    "\n",
    "X_train = train_df.drop('HeartDisease', axis=1).values\n",
    "X_test = test_df.drop('HeartDisease', axis=1).values\n",
    "\n",
    "y_train = train_df['HeartDisease'].values\n",
    "y_test = test_df['HeartDisease'].values\n",
    "\n",
    "scaler = StandardScaler()\n",
    "scaler.fit_transform(X_train)\n",
    "scaler.transform(X_test)\n",
    "\n",
    "min_budget_score = pd.DataFrame(columns=['Classifier', 'Minimum_Budget', 'Accuracy'])\n",
    "\n",
    "# for classifier_name in search_spaces.keys():\n",
    "for classifier_name in search_spaces.keys():\n",
    "    def early_stop(result, *_):\n",
    "        params = space_eval(search_spaces[classifier_name], trials.argmin)\n",
    "        model = classifiers[classifier_name](**params, random_state=42)\n",
    "        model.fit(X_train, y_train)\n",
    "\n",
    "        y_pred = model.predict(X_test)\n",
    "\n",
    "        acc = accuracy_score(y_test, y_pred)\n",
    "        result.attachments['recent_score'] = acc\n",
    "\n",
    "        return acc > baseline_score, []\n",
    "\n",
    "    trials = Trials()\n",
    "\n",
    "    optimized_params = fmin(\n",
    "        fn=create_objective(classifier_name, df, scale_values=True),\n",
    "        space=search_spaces[classifier_name],\n",
    "        algo=tpe.suggest,\n",
    "        max_evals=100,\n",
    "        trials=trials,\n",
    "        verbose=False,\n",
    "        rstate=np.random.default_rng(42),\n",
    "        early_stop_fn=early_stop,\n",
    "        return_argmin=False\n",
    "    )\n",
    "\n",
    "    losses = [trial['result']['loss'] for trial in trials]\n",
    "\n",
    "    min_budget_score = pd_insert_row(min_budget_score, [classifier_name, len(trials), trials.attachments['recent_score']])\n",
    "\n",
    "\n",
    "min_budget_score"
   ]
  },
  {
   "cell_type": "code",
   "execution_count": 23,
   "outputs": [
    {
     "data": {
      "text/plain": "<Figure size 640x480 with 1 Axes>",
      "image/png": "[encoded data removed]"
     },
     "metadata": {},
     "output_type": "display_data"
    }
   ],
   "source": [
    "from matplotlib import pyplot as plt\n",
    "\n",
    "plt.bar(min_budget_score['Classifier'], min_budget_score['Minimum_Budget'])\n",
    "plt.xlabel(\"Classifier\")\n",
    "plt.ylabel(\"Minimum budget to beat baseline\")\n",
    "plt.show()"
   ],
   "metadata": {
    "collapsed": false,
    "pycharm": {
     "name": "#%%\n"
    }
   }
  },
  {
   "cell_type": "code",
   "execution_count": null,
   "outputs": [],
   "source": [
    "def two_matched_t(acc1, acc2, results_1, results_2, n_samples):\n",
    "    # See Lecture 2 Evaluation pp. 71\n",
    "    d_overscore = abs(acc1 - acc2)\n",
    "    d = abs(results_1 - results_2)\n",
    "    var = np.sum((d - d_overscore) ** 2) / (n_samples - 1)\n",
    "    s_d = np.sqrt(var)\n",
    "    t = d_overscore * np.sqrt(n_samples) / s_d\n",
    "    return t"
   ],
   "metadata": {
    "collapsed": false,
    "pycharm": {
     "name": "#%%\n"
    }
   }
  },
  {
   "cell_type": "code",
   "execution_count": 8,
   "metadata": {
    "pycharm": {
     "name": "#%%\n"
    }
   },
   "outputs": [],
   "source": [
    "from matplotlib import pyplot as plt\n",
    "\n",
    "def visualise_search(losses, baseline):\n",
    "    baseline = 1 - baseline\n",
    "    plt.plot(range(len(losses)), losses, linewidth=0.8, alpha=0.5)\n",
    "    plt.plot([0, len(losses)], [baseline, baseline], linestyle='dashed', linewidth=0.5, color='red', alpha=0.8)\n",
    "    plt.ylim(0, 0.2)\n",
    "    plt.show()\n"
   ]
  }
 ],
 "metadata": {
  "kernelspec": {
   "display_name": "Python 3.10.7 64-bit",
   "language": "python",
   "name": "python3"
  },
  "language_info": {
   "codemirror_mode": {
    "name": "ipython",
    "version": 3
   },
   "file_extension": ".py",
   "mimetype": "text/x-python",
   "name": "python",
   "nbconvert_exporter": "python",
   "pygments_lexer": "ipython3",
   "version": "3.10.7"
  },
  "orig_nbformat": 4,
  "vscode": {
   "interpreter": {
    "hash": "0d2023a3b269d60709d80108461d3cb0d5d977b1e45e81bdf5ec1062fca0dde8"
   }
  }
 },
 "nbformat": 4,
 "nbformat_minor": 2
}