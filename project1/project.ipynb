{
 "cells": [
  {
   "cell_type": "markdown",
   "metadata": {
    "pycharm": {
     "name": "#%% md\n"
    }
   },
   "source": [
    "## Automated Machine Learning\n",
    "We will be working with [Heart Failure Dataset](https://www.kaggle.com/datasets/fedesoriano/heart-failure-prediction).\n",
    "\n",
    "### Libraries\n",
    "- [HyperOpt](https://hyperopt.github.io/hyperopt/) ([Tutorial 1](https://towardsdatascience.com/optimise-your-hyperparameter-tuning-with-hyperopt-861573239eb5), [Tutorial 2](https://medium.com/vooban-ai/hyperopt-tutorial-for-optimizing-neural-networks-hyperparameters-e3102814b919))\n",
    "\n",
    "\n",
    "### Instructions\n",
    "1. Choose a dataset. Build and train a baseline for comparison. Try a set of possible machine learning algorithms (13 algorithms) using their default hyperparamters and choose the one with the highest performance for comparison.\n",
    "\n",
    "2. Based on the problem at hand, you study the potential pipeline structure,\n",
    "algorithms or feature transformers at each step, hyper-parameters ranges. Use\n",
    "hyperOpt with the potential search space to beat the baseline.\n",
    "\n",
    "3. Monitor the performance of you the constructed pipeline from the previous step across different time budgets (number of iterations) and report the least time budget that you are able to outperform the baseline.\n",
    "\n",
    "4. Determine whether the difference in performance between the constructed pipeline and the baseline is statistically significant.\n",
    "\n",
    "### Data\n",
    "- Binary columns: Sex, ExerciseAngina\n",
    "- Categorical columns: ChestPainType, RestingECG, ST_Slope"
   ]
  },
  {
   "cell_type": "markdown",
   "metadata": {},
   "source": [
    "## TODO:\n",
    "\n",
    "- [ ] Implement one hot encoding for certain algorithms.\n",
    "- [ ] Fix and improve search spaces.\n",
    "- [ ] Implement hyperparameter optimization for all agorithms.\n",
    "- [ ] Visualise hyperparameter search.\n",
    "- [ ] Compare models for statistical significance.\n",
    "- [ ] Find minimum time budget for which baseline is outperformed"
   ]
  },
  {
   "cell_type": "code",
   "execution_count": 1,
   "metadata": {
    "pycharm": {
     "name": "#%%\n"
    }
   },
   "outputs": [],
   "source": [
    "import numpy as np\n",
    "import scipy as scp\n",
    "import pandas as pd\n",
    "import seaborn as sn\n",
    "import warnings\n",
    "\n",
    "warnings.filterwarnings('ignore')"
   ]
  },
  {
   "cell_type": "code",
   "execution_count": 2,
   "metadata": {
    "pycharm": {
     "name": "#%%\n"
    }
   },
   "outputs": [
    {
     "data": {
      "text/html": [
       "<div>\n",
       "<style scoped>\n",
       "    .dataframe tbody tr th:only-of-type {\n",
       "        vertical-align: middle;\n",
       "    }\n",
       "\n",
       "    .dataframe tbody tr th {\n",
       "        vertical-align: top;\n",
       "    }\n",
       "\n",
       "    .dataframe thead th {\n",
       "        text-align: right;\n",
       "    }\n",
       "</style>\n",
       "<table border=\"1\" class=\"dataframe\">\n",
       "  <thead>\n",
       "    <tr style=\"text-align: right;\">\n",
       "      <th></th>\n",
       "      <th>Age</th>\n",
       "      <th>Sex</th>\n",
       "      <th>ChestPainType</th>\n",
       "      <th>RestingBP</th>\n",
       "      <th>Cholesterol</th>\n",
       "      <th>FastingBS</th>\n",
       "      <th>RestingECG</th>\n",
       "      <th>MaxHR</th>\n",
       "      <th>ExerciseAngina</th>\n",
       "      <th>Oldpeak</th>\n",
       "      <th>ST_Slope</th>\n",
       "      <th>HeartDisease</th>\n",
       "    </tr>\n",
       "  </thead>\n",
       "  <tbody>\n",
       "    <tr>\n",
       "      <th>547</th>\n",
       "      <td>61</td>\n",
       "      <td>M</td>\n",
       "      <td>TA</td>\n",
       "      <td>142</td>\n",
       "      <td>200</td>\n",
       "      <td>1</td>\n",
       "      <td>ST</td>\n",
       "      <td>100</td>\n",
       "      <td>N</td>\n",
       "      <td>1.5</td>\n",
       "      <td>Down</td>\n",
       "      <td>1</td>\n",
       "    </tr>\n",
       "    <tr>\n",
       "      <th>590</th>\n",
       "      <td>63</td>\n",
       "      <td>M</td>\n",
       "      <td>ATA</td>\n",
       "      <td>136</td>\n",
       "      <td>165</td>\n",
       "      <td>0</td>\n",
       "      <td>ST</td>\n",
       "      <td>133</td>\n",
       "      <td>N</td>\n",
       "      <td>0.2</td>\n",
       "      <td>Up</td>\n",
       "      <td>0</td>\n",
       "    </tr>\n",
       "    <tr>\n",
       "      <th>199</th>\n",
       "      <td>57</td>\n",
       "      <td>F</td>\n",
       "      <td>TA</td>\n",
       "      <td>130</td>\n",
       "      <td>308</td>\n",
       "      <td>0</td>\n",
       "      <td>Normal</td>\n",
       "      <td>98</td>\n",
       "      <td>N</td>\n",
       "      <td>1.0</td>\n",
       "      <td>Flat</td>\n",
       "      <td>0</td>\n",
       "    </tr>\n",
       "  </tbody>\n",
       "</table>\n",
       "</div>"
      ],
      "text/plain": [
       "     Age Sex ChestPainType  RestingBP  Cholesterol  FastingBS RestingECG  \\\n",
       "547   61   M            TA        142          200          1         ST   \n",
       "590   63   M           ATA        136          165          0         ST   \n",
       "199   57   F            TA        130          308          0     Normal   \n",
       "\n",
       "     MaxHR ExerciseAngina  Oldpeak ST_Slope  HeartDisease  \n",
       "547    100              N      1.5     Down             1  \n",
       "590    133              N      0.2       Up             0  \n",
       "199     98              N      1.0     Flat             0  "
      ]
     },
     "execution_count": 2,
     "metadata": {},
     "output_type": "execute_result"
    }
   ],
   "source": [
    "df = pd.read_csv('./heart_failure.csv')\n",
    "df.sample(3)"
   ]
  },
  {
   "cell_type": "code",
   "execution_count": 3,
   "metadata": {},
   "outputs": [],
   "source": [
    "from sklearn.preprocessing import LabelEncoder\n",
    "from util import category_columns\n",
    "\n",
    "le = LabelEncoder()\n",
    "for column in ['Sex', 'ExerciseAngina']:\n",
    "    df[column] = le.fit_transform(df[column])"
   ]
  },
  {
   "cell_type": "code",
   "execution_count": 4,
   "metadata": {},
   "outputs": [],
   "source": [
    "from sklearn.model_selection import train_test_split\n",
    "from util import find_baseline\n",
    "\n",
    "train_df, test_df = train_test_split(df, test_size=0.33, random_state=42)\n",
    "scores = find_baseline(train_df)"
   ]
  },
  {
   "cell_type": "code",
   "execution_count": 5,
   "metadata": {
    "pycharm": {
     "name": "#%%\n"
    }
   },
   "outputs": [
    {
     "name": "stdout",
     "output_type": "stream",
     "text": [
      "Logistic Regression : 0.852\n",
      "Gradient Boosting   : 0.849\n",
      "AdaBoost            : 0.846\n",
      "LDA                 : 0.846\n",
      "SVM                 : 0.842\n",
      "Naive Bayes         : 0.839\n",
      "Random Forest       : 0.831\n",
      "Neural Network      : 0.828\n",
      "Bagging Classifier  : 0.816\n",
      "Decision Tree       : 0.808\n",
      "Gaussian Process    : 0.750\n",
      "KNN                 : 0.714\n",
      "QDA                 : 0.528\n"
     ]
    }
   ],
   "source": [
    "for name, score in sorted(scores.items(), key=lambda t: t[1], reverse=True):\n",
    "    print(f'{name:20}: {score:.3f}')"
   ]
  },
  {
   "cell_type": "code",
   "execution_count": 6,
   "metadata": {
    "pycharm": {
     "name": "#%%\n"
    }
   },
   "outputs": [
    {
     "name": "stdout",
     "output_type": "stream",
     "text": [
      "Baseline model is Logistic Regression with accuracy 0.852\n"
     ]
    }
   ],
   "source": [
    "baseline_name = max(scores, key=scores.get)\n",
    "baseline_score = scores[baseline_name]\n",
    "print(f\"Baseline model is {baseline_name} with K-Fold score on training set: {baseline_score:.3f}\")"
   ]
  },
  {
   "cell_type": "code",
   "execution_count": null,
   "metadata": {},
   "outputs": [],
   "source": [
    "import time\n",
    "from util import optimize_hyperparams, classifiers\n",
    "\n",
    "optimization_results = {}\n",
    "\n",
    "for classifier in classifiers:\n",
    "    print(f'{classifier}:')\n",
    "\n",
    "    max_evals = {\n",
    "        'Neural Network': 1\n",
    "    }\n",
    "\n",
    "    start_time = time.time()\n",
    "    best_params, losses, params = optimize_hyperparams(classifier, train_df, max_evals.get(classifier, 10), True)\n",
    "    elapsed = time.time() - start_time\n",
    "\n",
    "    optimization_results[classifier] = {\n",
    "        'best': best_params,\n",
    "        'losses': losses,\n",
    "        'params': params,\n",
    "        'time': elapsed,\n",
    "    }\n",
    "\n",
    "    print(f'Elapsed time: {elapsed:.2f}s')"
   ]
  },
  {
   "cell_type": "code",
   "execution_count": null,
   "metadata": {},
   "outputs": [
    {
     "name": "stdout",
     "output_type": "stream",
     "text": [
      "Logistic Regression : 0.852\n",
      "Gradient Boosting   : 0.849\n",
      "SVM                 : 0.846\n",
      "LDA                 : 0.846\n",
      "Random Forest       : 0.841\n",
      "Naive Bayes         : 0.839\n",
      "AdaBoost            : 0.831\n",
      "Bagging Classifier  : 0.829\n",
      "Decision Tree       : 0.821\n",
      "Neural Network      : 0.756\n",
      "Gaussian Process    : 0.750\n",
      "KNN                 : 0.714\n",
      "QDA                 : 0.528\n"
     ]
    }
   ],
   "source": [
    "scores = [ (name, 1 - min(result['losses'])) for name, result in optimization_results.items() ]\n",
    "\n",
    "for name, score in sorted(scores, key=lambda x: x[1], reverse=True):\n",
    "    print(f'{name:20}: {score:.3f}')"
   ]
  },
  {
   "cell_type": "code",
   "execution_count": null,
   "metadata": {},
   "outputs": [],
   "source": [
    "from util import compare_with_baseline\n",
    "\n",
    "baseline_score, results = compare_with_baseline(baseline_name, optimization_results, train_df, test_df)"
   ]
  },
  {
   "cell_type": "code",
   "execution_count": null,
   "metadata": {},
   "outputs": [],
   "source": [
    "from util import find_min_budget\n",
    "\n",
    "find_min_budget(baseline_name, train_df, test_df, optimization_results)"
   ]
  },
  {
   "cell_type": "code",
   "execution_count": null,
   "metadata": {
    "pycharm": {
     "name": "#%%\n"
    }
   },
   "outputs": [
    {
     "data": {
      "image/png": "[encoded data removed]",
      "text/plain": [
       "<Figure size 432x288 with 1 Axes>"
      ]
     },
     "metadata": {
      "needs_background": "light"
     },
     "output_type": "display_data"
    }
   ],
   "source": [
    "from matplotlib import pyplot as plt\n",
    "\n",
    "names = [ name for name in  optimization_results ]\n",
    "min_budgets = [ optimization_results[name]['min_budget'] for name in  optimization_results ]\n",
    "colors = [ 'red' if optimization_results[name]['min_budget'] == len(optimization_results[name]['losses']) else 'blue' for name in  optimization_results ]\n",
    "\n",
    "labels = []\n",
    "min_budgets = []\n",
    "colors = []\n",
    "\n",
    "for name in  optimization_results:\n",
    "    labels.append(name)\n",
    "    min_budgets.append(optimization_results[name]['min_budget'])\n",
    "\n",
    "    color = '#FB9F89' if optimization_results[name]['min_budget'] == len(optimization_results[name]['losses']) else '#81AE9D'\n",
    "    colors.append(color)\n",
    "\n",
    "plt.barh(labels, min_budgets, color=colors)\n",
    "plt.xlabel(\"Minimum budget to beat baseline\")\n",
    "plt.ylabel(\"Classifier\")\n",
    "plt.show()"
   ]
  },
  {
   "cell_type": "code",
   "execution_count": null,
   "metadata": {},
   "outputs": [
    {
     "name": "stdout",
     "output_type": "stream",
     "text": [
      "Baseline model is Logistic Regression with score: 0.871\n"
     ]
    },
    {
     "data": {
      "text/html": [
       "<div>\n",
       "<style scoped>\n",
       "    .dataframe tbody tr th:only-of-type {\n",
       "        vertical-align: middle;\n",
       "    }\n",
       "\n",
       "    .dataframe tbody tr th {\n",
       "        vertical-align: top;\n",
       "    }\n",
       "\n",
       "    .dataframe thead th {\n",
       "        text-align: right;\n",
       "    }\n",
       "</style>\n",
       "<table border=\"1\" class=\"dataframe\">\n",
       "  <thead>\n",
       "    <tr style=\"text-align: right;\">\n",
       "      <th></th>\n",
       "      <th>Classifier</th>\n",
       "      <th>Minimum Budget</th>\n",
       "      <th>Score</th>\n",
       "      <th>p-value</th>\n",
       "    </tr>\n",
       "  </thead>\n",
       "  <tbody>\n",
       "    <tr>\n",
       "      <th>0</th>\n",
       "      <td>Gaussian Process</td>\n",
       "      <td>1</td>\n",
       "      <td>0.881</td>\n",
       "      <td>0.020</td>\n",
       "    </tr>\n",
       "    <tr>\n",
       "      <th>1</th>\n",
       "      <td>Logistic Regression</td>\n",
       "      <td>1</td>\n",
       "      <td>0.875</td>\n",
       "      <td>0.317</td>\n",
       "    </tr>\n",
       "    <tr>\n",
       "      <th>2</th>\n",
       "      <td>Gradient Boosting</td>\n",
       "      <td>1</td>\n",
       "      <td>0.875</td>\n",
       "      <td>0.366</td>\n",
       "    </tr>\n",
       "    <tr>\n",
       "      <th>3</th>\n",
       "      <td>SVM</td>\n",
       "      <td>1</td>\n",
       "      <td>0.871</td>\n",
       "      <td>0.414</td>\n",
       "    </tr>\n",
       "    <tr>\n",
       "      <th>4</th>\n",
       "      <td>Random Forest</td>\n",
       "      <td>1</td>\n",
       "      <td>0.868</td>\n",
       "      <td>0.008</td>\n",
       "    </tr>\n",
       "    <tr>\n",
       "      <th>5</th>\n",
       "      <td>AdaBoost</td>\n",
       "      <td>1</td>\n",
       "      <td>0.868</td>\n",
       "      <td>0.162</td>\n",
       "    </tr>\n",
       "    <tr>\n",
       "      <th>6</th>\n",
       "      <td>Naive Bayes</td>\n",
       "      <td>1</td>\n",
       "      <td>0.868</td>\n",
       "      <td>0.513</td>\n",
       "    </tr>\n",
       "    <tr>\n",
       "      <th>7</th>\n",
       "      <td>LDA</td>\n",
       "      <td>1</td>\n",
       "      <td>0.868</td>\n",
       "      <td>0.564</td>\n",
       "    </tr>\n",
       "    <tr>\n",
       "      <th>8</th>\n",
       "      <td>Bagging Classifier</td>\n",
       "      <td>1</td>\n",
       "      <td>0.809</td>\n",
       "      <td>0.002</td>\n",
       "    </tr>\n",
       "    <tr>\n",
       "      <th>9</th>\n",
       "      <td>Decision Tree</td>\n",
       "      <td>1</td>\n",
       "      <td>0.799</td>\n",
       "      <td>0.527</td>\n",
       "    </tr>\n",
       "    <tr>\n",
       "      <th>10</th>\n",
       "      <td>Neural Network</td>\n",
       "      <td>1</td>\n",
       "      <td>0.762</td>\n",
       "      <td>0.024</td>\n",
       "    </tr>\n",
       "    <tr>\n",
       "      <th>11</th>\n",
       "      <td>KNN</td>\n",
       "      <td>1</td>\n",
       "      <td>0.706</td>\n",
       "      <td>0.095</td>\n",
       "    </tr>\n",
       "    <tr>\n",
       "      <th>12</th>\n",
       "      <td>QDA</td>\n",
       "      <td>1</td>\n",
       "      <td>0.693</td>\n",
       "      <td>0.099</td>\n",
       "    </tr>\n",
       "  </tbody>\n",
       "</table>\n",
       "</div>"
      ],
      "text/plain": [
       "             Classifier  Minimum Budget  Score  p-value\n",
       "0      Gaussian Process               1  0.881    0.020\n",
       "1   Logistic Regression               1  0.875    0.317\n",
       "2     Gradient Boosting               1  0.875    0.366\n",
       "3                   SVM               1  0.871    0.414\n",
       "4         Random Forest               1  0.868    0.008\n",
       "5              AdaBoost               1  0.868    0.162\n",
       "6           Naive Bayes               1  0.868    0.513\n",
       "7                   LDA               1  0.868    0.564\n",
       "8    Bagging Classifier               1  0.809    0.002\n",
       "9         Decision Tree               1  0.799    0.527\n",
       "10       Neural Network               1  0.762    0.024\n",
       "11                  KNN               1  0.706    0.095\n",
       "12                  QDA               1  0.693    0.099"
      ]
     },
     "execution_count": 40,
     "metadata": {},
     "output_type": "execute_result"
    }
   ],
   "source": [
    "final_results = pd.DataFrame(columns=['Classifier', 'Minimum Budget', 'Score', 'p-value'])\n",
    "\n",
    "final_results['Score'] = [ value['score'] for _, value in results.items()]\n",
    "final_results['p-value'] = [ value['p_value'] for _, value in results.items()]\n",
    "\n",
    "min_budgets = []\n",
    "scores = []\n",
    "p_values = []\n",
    "\n",
    "for name in classifiers:\n",
    "    min_budgets.append(optimization_results[name]['min_budget'])\n",
    "    scores.append(round(results[name]['score'], 3))\n",
    "    p_values.append(round(results[name]['p_value'], 3))\n",
    "\n",
    "\n",
    "final_results['Classifier'] = [ name for name in classifiers ]\n",
    "final_results['Minimum Budget'] = min_budgets\n",
    "final_results['Score'] = scores\n",
    "final_results['p-value'] = p_values\n",
    "\n",
    "print(f'Baseline model is {baseline_name} with score: {baseline_score:.3f}')\n",
    "\n",
    "# Display \n",
    "final_results.sort_values('Score', ascending=False, inplace=True)\n",
    "final_results.reset_index(drop=True, inplace=True)\n",
    "final_results"
   ]
  },
  {
   "cell_type": "code",
   "execution_count": null,
   "metadata": {
    "pycharm": {
     "name": "#%%\n"
    }
   },
   "outputs": [],
   "source": [
    "from matplotlib import pyplot as plt\n",
    "\n",
    "def visualise_search(losses, baseline, best_index):\n",
    "    baseline = 1 - baseline\n",
    "    plt.plot(range(len(losses)), losses, linewidth=0.8, alpha=0.5)\n",
    "    plt.plot([0, len(losses)], [baseline, baseline], linestyle='dashed', linewidth=0.5, color='red', alpha=0.8)\n",
    "    plt.ylim(0, 0.2)\n",
    "    plt.show()"
   ]
  }
 ],
 "metadata": {
  "kernelspec": {
   "display_name": "Python 3 (ipykernel)",
   "language": "python",
   "name": "python3"
  },
  "language_info": {
   "codemirror_mode": {
    "name": "ipython",
    "version": 3
   },
   "file_extension": ".py",
   "mimetype": "text/x-python",
   "name": "python",
   "nbconvert_exporter": "python",
   "pygments_lexer": "ipython3",
   "version": "3.10.7"
  },
  "vscode": {
   "interpreter": {
    "hash": "0d2023a3b269d60709d80108461d3cb0d5d977b1e45e81bdf5ec1062fca0dde8"
   }
  }
 },
 "nbformat": 4,
 "nbformat_minor": 2
}
