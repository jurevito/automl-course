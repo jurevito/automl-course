{
 "cells": [
  {
   "cell_type": "markdown",
   "metadata": {},
   "source": [
    "## Automated Machine Learning\n",
    "We will be working with [Heart Failure Dataset](https://www.kaggle.com/datasets/fedesoriano/heart-failure-prediction).\n",
    "\n",
    "### Libraries\n",
    "- [HyperOpt](https://hyperopt.github.io/hyperopt/)\n",
    "\n",
    "### Instructions\n",
    "1. Choose a dataset. Build and train a baseline for comparison. Try a set of possible machine learning algorithms (13 algorithms) using their default hyperparamters and choose the one with the highest performance for comparison.\n",
    "\n",
    "2. Based on the problem at hand, you study the potential pipeline structure,\n",
    "algorithms or feature transformers at each step, hyper-parameters ranges. Use\n",
    "hyperOpt with the potential search space to beat the baseline.\n",
    "\n",
    "3. Monitor the the performance of you the constructed pipeline from the previous step across different time budgets (number of iterations) and report the least time budget that you are able to outperform the baseline.\n",
    "\n",
    "4. Determine whether the difference in performance between the constructed pipeline and the baseline is statistically significant."
   ]
  },
  {
   "cell_type": "code",
   "execution_count": 1,
   "metadata": {},
   "outputs": [],
   "source": [
    "import numpy as np\n",
    "import scipy as scp\n",
    "import pandas as pd\n",
    "import seaborn as sn"
   ]
  },
  {
   "cell_type": "code",
   "execution_count": 2,
   "metadata": {},
   "outputs": [
    {
     "data": {
      "text/html": [
       "<div>\n",
       "<style scoped>\n",
       "    .dataframe tbody tr th:only-of-type {\n",
       "        vertical-align: middle;\n",
       "    }\n",
       "\n",
       "    .dataframe tbody tr th {\n",
       "        vertical-align: top;\n",
       "    }\n",
       "\n",
       "    .dataframe thead th {\n",
       "        text-align: right;\n",
       "    }\n",
       "</style>\n",
       "<table border=\"1\" class=\"dataframe\">\n",
       "  <thead>\n",
       "    <tr style=\"text-align: right;\">\n",
       "      <th></th>\n",
       "      <th>Age</th>\n",
       "      <th>Sex</th>\n",
       "      <th>ChestPainType</th>\n",
       "      <th>RestingBP</th>\n",
       "      <th>Cholesterol</th>\n",
       "      <th>FastingBS</th>\n",
       "      <th>RestingECG</th>\n",
       "      <th>MaxHR</th>\n",
       "      <th>ExerciseAngina</th>\n",
       "      <th>Oldpeak</th>\n",
       "      <th>ST_Slope</th>\n",
       "      <th>HeartDisease</th>\n",
       "    </tr>\n",
       "  </thead>\n",
       "  <tbody>\n",
       "    <tr>\n",
       "      <th>96</th>\n",
       "      <td>43</td>\n",
       "      <td>M</td>\n",
       "      <td>ATA</td>\n",
       "      <td>142</td>\n",
       "      <td>207</td>\n",
       "      <td>0</td>\n",
       "      <td>Normal</td>\n",
       "      <td>138</td>\n",
       "      <td>N</td>\n",
       "      <td>0.0</td>\n",
       "      <td>Up</td>\n",
       "      <td>0</td>\n",
       "    </tr>\n",
       "    <tr>\n",
       "      <th>879</th>\n",
       "      <td>48</td>\n",
       "      <td>M</td>\n",
       "      <td>ATA</td>\n",
       "      <td>110</td>\n",
       "      <td>229</td>\n",
       "      <td>0</td>\n",
       "      <td>Normal</td>\n",
       "      <td>168</td>\n",
       "      <td>N</td>\n",
       "      <td>1.0</td>\n",
       "      <td>Down</td>\n",
       "      <td>1</td>\n",
       "    </tr>\n",
       "    <tr>\n",
       "      <th>211</th>\n",
       "      <td>50</td>\n",
       "      <td>F</td>\n",
       "      <td>NAP</td>\n",
       "      <td>140</td>\n",
       "      <td>288</td>\n",
       "      <td>0</td>\n",
       "      <td>Normal</td>\n",
       "      <td>140</td>\n",
       "      <td>Y</td>\n",
       "      <td>0.0</td>\n",
       "      <td>Flat</td>\n",
       "      <td>1</td>\n",
       "    </tr>\n",
       "  </tbody>\n",
       "</table>\n",
       "</div>"
      ],
      "text/plain": [
       "     Age Sex ChestPainType  RestingBP  Cholesterol  FastingBS RestingECG  \\\n",
       "96    43   M           ATA        142          207          0     Normal   \n",
       "879   48   M           ATA        110          229          0     Normal   \n",
       "211   50   F           NAP        140          288          0     Normal   \n",
       "\n",
       "     MaxHR ExerciseAngina  Oldpeak ST_Slope  HeartDisease  \n",
       "96     138              N      0.0       Up             0  \n",
       "879    168              N      1.0     Down             1  \n",
       "211    140              Y      0.0     Flat             1  "
      ]
     },
     "execution_count": 2,
     "metadata": {},
     "output_type": "execute_result"
    }
   ],
   "source": [
    "heart_df = pd.read_csv('./heart_failure.csv')\n",
    "heart_df.sample(3)"
   ]
  }
 ],
 "metadata": {
  "kernelspec": {
   "display_name": "Python 3.10.7 64-bit",
   "language": "python",
   "name": "python3"
  },
  "language_info": {
   "codemirror_mode": {
    "name": "ipython",
    "version": 3
   },
   "file_extension": ".py",
   "mimetype": "text/x-python",
   "name": "python",
   "nbconvert_exporter": "python",
   "pygments_lexer": "ipython3",
   "version": "3.10.7"
  },
  "orig_nbformat": 4,
  "vscode": {
   "interpreter": {
    "hash": "0d2023a3b269d60709d80108461d3cb0d5d977b1e45e81bdf5ec1062fca0dde8"
   }
  }
 },
 "nbformat": 4,
 "nbformat_minor": 2
}
